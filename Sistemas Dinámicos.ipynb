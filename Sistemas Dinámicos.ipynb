{
 "cells": [
  {
   "cell_type": "markdown",
   "metadata": {},
   "source": [
    "# PROYECTO 2DO CORTE CNYT: SISTEMAS DINÁMICOS"
   ]
  },
  {
   "cell_type": "markdown",
   "metadata": {},
   "source": [
    "## SISTEMA PROBABILÍSTICO"
   ]
  },
  {
   "cell_type": "markdown",
   "metadata": {},
   "source": [
    "### - GRAFO ASOCIADO:"
   ]
  },
  {
   "cell_type": "markdown",
   "metadata": {},
   "source": [
    "![Experimento Doble Rendija (Probabilístico)](ProbabilisticSys.jpg)"
   ]
  },
  {
   "cell_type": "markdown",
   "metadata": {},
   "source": [
    "### - MATRIZ DE ADYACENCIA ASOCIADA:"
   ]
  },
  {
   "cell_type": "markdown",
   "metadata": {},
   "source": [
    "$$Dynamic = \\begin{bmatrix}\n",
    "0&0&0&0&0&0&0&0\\\\\n",
    "0&0&0&0&0&0&0&0\\\\\n",
    "0&0&0&0&0&0&0&0\\\\\n",
    "\\frac{1}{6}&\\frac{1}{3}&0&1&0&0&0&0\\\\\n",
    "\\frac{1}{6}&\\frac{1}{3}&0&0&1&0&0&0\\\\\n",
    "\\frac{1}{3}&\\frac{1}{3}&\\frac{1}{3}&0&0&1&0&0\\\\\n",
    "\\frac{1}{6}&0&\\frac{1}{3}&0&0&0&1&0\\\\\n",
    "\\frac{1}{6}&0&\\frac{1}{3}&0&0&0&0&1\\end{bmatrix}$$"
   ]
  },
  {
   "cell_type": "markdown",
   "metadata": {},
   "source": [
    "### - GRAFICO DE BARRAS:"
   ]
  },
  {
   "cell_type": "code",
   "execution_count": 20,
   "metadata": {},
   "outputs": [
    {
     "data": {
      "image/png": "[encoded data removed]",
      "text/plain": [
       "<Figure size 432x288 with 1 Axes>"
      ]
     },
     "metadata": {
      "needs_background": "light"
     },
     "output_type": "display_data"
    }
   ],
   "source": [
    "import ProbabilisticSimulator"
   ]
  },
  {
   "cell_type": "markdown",
   "metadata": {},
   "source": [
    "### - ANÁLISIS:\n",
    "    Según podemos notar en el grafo asociado, la probabilidad de que una canica\n",
    "    pueda estar en alguno de los puntos 3, 4, 6 o 7 (Partiendo del punto No.0) es\n",
    "    de 1/3.\n",
    "    Tal cantidad se ve reflejada en el gráfico de barras para dichos puntos.\n",
    "    Esta situación es diferente para el punto No.5, en donde tiene el doble de probabilidades\n",
    "    que los otros puntos, es decir, su probabilidad total es 1/6 + 1/6 = 1/3.\n",
    "    Esto es así, ya que, tanto desde el punto 1 o 2 existe la probabilidad de poder\n",
    "    ir hasta el punto No.5. viendose reflejado en el gráfico de barras."
   ]
  },
  {
   "cell_type": "markdown",
   "metadata": {},
   "source": [
    "## SISTEMA CUÁNTICO"
   ]
  },
  {
   "cell_type": "markdown",
   "metadata": {},
   "source": [
    "### - GRAFO ASOCIADO:"
   ]
  },
  {
   "cell_type": "markdown",
   "metadata": {},
   "source": [
    "![Experimento Doble Rendija (Cuántico)](QuantumSys.jpg)"
   ]
  },
  {
   "cell_type": "markdown",
   "metadata": {},
   "source": [
    "### - MATRIZ DE ADYACENCIA ASOCIADA:"
   ]
  },
  {
   "cell_type": "markdown",
   "metadata": {},
   "source": [
    "$$Dynamic = \\begin{bmatrix}\n",
    "0&0&0&0&0&0&0&0\\\\\n",
    "0&0&0&0&0&0&0&0\\\\\n",
    "0&0&0&0&0&0&0&0\\\\\n",
    "\\frac{-1+i}{\\sqrt{12}}&\\frac{-1+i}{\\sqrt{6}}&0&1&0&0&0&0\\\\\n",
    "\\frac{-1-i}{\\sqrt{12}}&\\frac{-1-i}{\\sqrt{6}}&0&0&1&0&0&0\\\\\n",
    "0&\\frac{-1+i}{\\sqrt{6}}&\\frac{1-i}{\\sqrt{6}}&0&0&1&0&0\\\\\n",
    "\\frac{-1-i}{\\sqrt{12}}&0&\\frac{-1-i}{\\sqrt{6}}&0&0&0&1&0\\\\\n",
    "\\frac{-1+i}{\\sqrt{12}}&0&\\frac{1-i}{\\sqrt{6}}&0&0&0&0&1\n",
    "\\end{bmatrix}$$"
   ]
  },
  {
   "cell_type": "markdown",
   "metadata": {},
   "source": [
    "### - GRAFICO DE BARRAS:"
   ]
  },
  {
   "cell_type": "code",
   "execution_count": 21,
   "metadata": {},
   "outputs": [
    {
     "data": {
      "image/png": "[encoded data removed]",
      "text/plain": [
       "<Figure size 432x288 with 1 Axes>"
      ]
     },
     "metadata": {
      "needs_background": "light"
     },
     "output_type": "display_data"
    }
   ],
   "source": [
    "import QuantumSimulator"
   ]
  },
  {
   "cell_type": "markdown",
   "metadata": {},
   "source": [
    "### - ANÁLISIS:\n",
    "    Primero destacamos que, las probabilidades se calculan como el módulo al cuadrado de\n",
    "    cada componenete de la matriz, es decir, |dynamic[i, j]|^2, pero aún así, las probabilidades\n",
    "    sobre cada vértice en el grafo son las mismas.\n",
    "    La razón de expresar las componenetes de la matriz con números complejos es que, deseamos\n",
    "    que el sistema pueda actuar como un sistema realmente cuántico, aludiendo al concepto de\n",
    "    superposición de estados y su comportamiento al intentar medirlo. Esta es la base del resultado\n",
    "    del gráfico de barras, y parte fundamental del principio sobre el que se basa la computación cuántica.\n",
    "    \n",
    "    Es de esta manera que podemos \"notar\" la dualidad onda-partícula de la luz (específicamente\n",
    "    para este caso), ya que el resultado del gráfico de barras es correctamente interpretable\n",
    "    desde esta perspectiva, de manera que si tenemos en cuenta, por ejemplo, la propiedad de\n",
    "    interferencia de las ondas, este se ve reflejado en el resultado del gráfico, y funciona muy\n",
    "    bien, porque si tenemos en cuenta la diferencia que existe entre el gráfico probabilístico y este gráfico para\n",
    "    el punto No.5, la diferencia es notable.\n",
    "    Podemos explicar esto diciendo que en el punto No.5 se produce una interferencia debida a la\n",
    "    propagación tanto desde el punto No.1 como desde el punto No.2, es así que no se produce\n",
    "    un valor sobre el punto No.5 en el gráfico de barras.\n",
    "    Finalmente, concluimos que el patrón generado en el experimento de la doble rendija, es resultado\n",
    "    en gran medida de este patrón de interferencia."
   ]
  }
 ],
 "metadata": {
  "kernelspec": {
   "display_name": "Python 3",
   "language": "python",
   "name": "python3"
  },
  "language_info": {
   "codemirror_mode": {
    "name": "ipython",
    "version": 3
   },
   "file_extension": ".py",
   "mimetype": "text/x-python",
   "name": "python",
   "nbconvert_exporter": "python",
   "pygments_lexer": "ipython3",
   "version": "3.7.6"
  }
 },
 "nbformat": 4,
 "nbformat_minor": 2
}
